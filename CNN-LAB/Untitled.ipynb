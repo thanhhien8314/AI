{
  "metadata": {
    "kernelspec": {
      "name": "xcpp17",
      "display_name": "C++17",
      "language": "cpp"
    },
    "language_info": {
      "codemirror_mode": "text/x-c++src",
      "file_extension": ".cpp",
      "mimetype": "text/x-c++src",
      "name": "C++",
      "version": "17"
    }
  },
  "nbformat_minor": 5,
  "nbformat": 4,
  "cells": [
    {
      "id": "aea4b071-f365-4d79-bd0a-14bf19ccde8a",
      "cell_type": "code",
      "source": "#Câu 1:\nmodel = models.Sequential()\nmodel.add(layers.Conv2D(32, (3, 3), activation='relu', input_shape=(32, 32, 3)))\nmodel.add(layers.MaxPooling2D((2, 2)))\nmodel.add(layers.Conv2D(64, (3, 3), activation='relu'))\nmodel.add(layers.MaxPooling2D((2, 2)))\nmodel.add(layers.Conv2D(32, (3, 3), activation='relu'))\nmodel.add(layers.MaxPooling2D((2, 2)))\nmodel.add(layers.Flatten())\nmodel.add(layers.Dense(64, activation='relu'))\nmodel.add(layers.Dense(10, activation='softmax'))\n#Sau khi thêm conv3 và pooling, model có thể đạt độ chính xác cao hơn, nhưng cũng có thể gặp phải vấn đề over-fitting hoặc under-fitting. Việc này phụ thuộc vào dataset. Một tầng conv sâu hơn giúp model học được các feature phức tạp hơn từ dữ liệu, nhưng có thể làm cho model trở nên quá phức tạp đối với dataset nhỏ.",
      "metadata": {
        "trusted": true
      },
      "outputs": [
        {
          "name": "stderr",
          "output_type": "stream",
          "text": "input_line_9:1:2: error: invalid preprocessing directive\n    1 | #Câu 1:\n      |  ^\ninput_line_9:2:1: error: use of undeclared identifier 'model'\n    2 | model = models.Sequential()\n      | ^\ninput_line_9:2:9: error: use of undeclared identifier 'models'\n    2 | model = models.Sequential()\n      |         ^\ninput_line_9:12:2: error: invalid preprocessing directive\n   12 | #Sau khi thêm conv3 và pooling, model có thể đạt độ chính xác cao hơn, nhưng cũng có thể gặp phải vấn đề over-fitting hoặc under-fitting. Việc này phụ thuộc vào dataset. Một tầng conv sâu hơn giúp model học được các feature phức tạp hơn từ dữ liệu, nhưng có thể làm cho model trở nên quá phức tạp đối với dataset nhỏ.\n      |  ^\nFailed to parse via ::process:Parsing failed.\n"
        },
        {
          "ename": "Error: ",
          "evalue": "Compilation error! input_line_9:1:2: error: invalid preprocessing directive\n    1 | #Câu 1:\n      |  ^\ninput_line_9:2:1: error: use of undeclared identifier 'model'\n    2 | model = models.Sequential()\n      | ^\ninput_line_9:2:9: error: use of undeclared identifier 'models'\n    2 | model = models.Sequential()\n      |         ^\ninput_line_9:12:2: error: invalid preprocessing directive\n   12 | #Sau khi thêm conv3 và pooling, model có thể đạt độ chính xác cao hơn, nhưng cũng có thể gặp phải vấn đề over-fitting hoặc under-fitting. Việc này phụ thuộc vào dataset. Một tầng conv sâu hơn giúp model học được các feature phức tạp hơn từ dữ liệu, nhưng có thể làm cho model trở nên quá phức tạp đối với dataset nhỏ.\n      |  ^\nFailed to parse via ::process:Parsing failed.\n",
          "traceback": [
            "Error: Compilation error! input_line_9:1:2: error: invalid preprocessing directive\n    1 | #Câu 1:\n      |  ^\ninput_line_9:2:1: error: use of undeclared identifier 'model'\n    2 | model = models.Sequential()\n      | ^\ninput_line_9:2:9: error: use of undeclared identifier 'models'\n    2 | model = models.Sequential()\n      |         ^\ninput_line_9:12:2: error: invalid preprocessing directive\n   12 | #Sau khi thêm conv3 và pooling, model có thể đạt độ chính xác cao hơn, nhưng cũng có thể gặp phải vấn đề over-fitting hoặc under-fitting. Việc này phụ thuộc vào dataset. Một tầng conv sâu hơn giúp model học được các feature phức tạp hơn từ dữ liệu, nhưng có thể làm cho model trở nên quá phức tạp đối với dataset nhỏ.\n      |  ^\nFailed to parse via ::process:Parsing failed.\n"
          ],
          "output_type": "error"
        }
      ],
      "execution_count": 8
    },
    {
      "id": "d71ed5b8-326c-4636-bf41-072315158b5c",
      "cell_type": "code",
      "source": "#câu 2:\nplt.figure(figsize=(20, 4))\nplt.subplot(1, 5, 1)\nplt.imshow(conv1_output[0, :, :, 0], cmap='viridis')\nplt.subplot(1, 5, 2)\nplt.imshow(conv1_output[0, :, :, 1], cmap='viridis')\nplt.subplot(1, 5, 3)\nplt.imshow(conv1_output[0, :, :, 2], cmap='viridis')\nplt.subplot(1, 5, 4)\nplt.imshow(conv2_output[0, :, :, 0], cmap='viridis')\nplt.subplot(1, 5, 5)\nplt.imshow(conv2_output[0, :, :, 1], cmap='viridis')\nplt.show()\n#Các feature map từ tầng conv1 thường hiển thị các đặc điểm đơn giản như đường viền, cạnh và màu sắc. Ngược lại, các feature map từ tầng conv2 sẽ trừu tượng và phức tạp hơn, kết hợp các đặc điểm từ tầng trước để tạo ra các hình dạng hoặc kết cấu phức tạp hơn. Điều này là do mỗi tầng tích chập học được các feature ở một mức độ trừu tượng khác nhau, với các tầng sâu hơn tổng hợp các feature đơn giản hơn từ các tầng trước.\n    ",
      "metadata": {
        "trusted": true
      },
      "outputs": [
        {
          "name": "stderr",
          "output_type": "stream",
          "text": "input_line_10:1:2: error: invalid preprocessing directive\n    1 | #câu 2:\n      |  ^\ninput_line_10:2:1: error: use of undeclared identifier 'plt'\n    2 | plt.figure(figsize=(20, 4))\n      | ^\ninput_line_10:2:21: warning: left operand of comma operator has no effect [-Wunused-value]\n    2 | plt.figure(figsize=(20, 4))\n      |                     ^~\ninput_line_10:2:12: error: use of undeclared identifier 'figsize'\n    2 | plt.figure(figsize=(20, 4))\n      |            ^\ninput_line_10:14:2: error: invalid preprocessing directive\n   14 | #Các feature map từ tầng conv1 thường hiển thị các đặc điểm đơn giản như đường viền, cạnh và màu sắc. Ngược lại, các feature map từ tầng conv2 sẽ trừu tượng và phức tạp hơn, kết hợp các đặc điểm từ tầng trước để tạo ra các hình dạng hoặc kết cấu phức tạp hơn. Điều này là do mỗi tầng tích chập học được các feature ở một mức độ trừu tượng khác nhau, với các tầng sâu hơn tổng hợp các feature đơn giản hơn từ các tầng trước.\n      |  ^\nFailed to parse via ::process:Parsing failed.\n"
        },
        {
          "ename": "Error: ",
          "evalue": "Compilation error! input_line_10:1:2: error: invalid preprocessing directive\n    1 | #câu 2:\n      |  ^\ninput_line_10:2:1: error: use of undeclared identifier 'plt'\n    2 | plt.figure(figsize=(20, 4))\n      | ^\ninput_line_10:2:21: warning: left operand of comma operator has no effect [-Wunused-value]\n    2 | plt.figure(figsize=(20, 4))\n      |                     ^~\ninput_line_10:2:12: error: use of undeclared identifier 'figsize'\n    2 | plt.figure(figsize=(20, 4))\n      |            ^\ninput_line_10:14:2: error: invalid preprocessing directive\n   14 | #Các feature map từ tầng conv1 thường hiển thị các đặc điểm đơn giản như đường viền, cạnh và màu sắc. Ngược lại, các feature map từ tầng conv2 sẽ trừu tượng và phức tạp hơn, kết hợp các đặc điểm từ tầng trước để tạo ra các hình dạng hoặc kết cấu phức tạp hơn. Điều này là do mỗi tầng tích chập học được các feature ở một mức độ trừu tượng khác nhau, với các tầng sâu hơn tổng hợp các feature đơn giản hơn từ các tầng trước.\n      |  ^\nFailed to parse via ::process:Parsing failed.\n",
          "traceback": [
            "Error: Compilation error! input_line_10:1:2: error: invalid preprocessing directive\n    1 | #câu 2:\n      |  ^\ninput_line_10:2:1: error: use of undeclared identifier 'plt'\n    2 | plt.figure(figsize=(20, 4))\n      | ^\ninput_line_10:2:21: warning: left operand of comma operator has no effect [-Wunused-value]\n    2 | plt.figure(figsize=(20, 4))\n      |                     ^~\ninput_line_10:2:12: error: use of undeclared identifier 'figsize'\n    2 | plt.figure(figsize=(20, 4))\n      |            ^\ninput_line_10:14:2: error: invalid preprocessing directive\n   14 | #Các feature map từ tầng conv1 thường hiển thị các đặc điểm đơn giản như đường viền, cạnh và màu sắc. Ngược lại, các feature map từ tầng conv2 sẽ trừu tượng và phức tạp hơn, kết hợp các đặc điểm từ tầng trước để tạo ra các hình dạng hoặc kết cấu phức tạp hơn. Điều này là do mỗi tầng tích chập học được các feature ở một mức độ trừu tượng khác nhau, với các tầng sâu hơn tổng hợp các feature đơn giản hơn từ các tầng trước.\n      |  ^\nFailed to parse via ::process:Parsing failed.\n"
          ],
          "output_type": "error"
        }
      ],
      "execution_count": 9
    },
    {
      "id": "78929a38-02c7-41e7-8e36-816a5376f671",
      "cell_type": "code",
      "source": "#Câu 3: \n#Learning Rate = 0.001:\noptimizer = optim.SGD(model.parameters(), lr=0.001, momentum=0.9)\n",
      "metadata": {
        "trusted": true
      },
      "outputs": [
        {
          "name": "stderr",
          "output_type": "stream",
          "text": "input_line_11:1:2: error: invalid preprocessing directive\n    1 | #Câu 3: \n      |  ^\ninput_line_11:2:2: error: invalid preprocessing directive\n    2 | #Learning Rate = 0.001:\n      |  ^\ninput_line_11:3:1: error: use of undeclared identifier 'optimizer'\n    3 | optimizer = optim.SGD(model.parameters(), lr=0.001, momentum=0.9)\n      | ^\ninput_line_11:3:13: error: use of undeclared identifier 'optim'\n    3 | optimizer = optim.SGD(model.parameters(), lr=0.001, momentum=0.9)\n      |             ^\ninput_line_11:3:23: error: use of undeclared identifier 'model'\n    3 | optimizer = optim.SGD(model.parameters(), lr=0.001, momentum=0.9)\n      |                       ^\ninput_line_11:3:43: error: use of undeclared identifier 'lr'\n    3 | optimizer = optim.SGD(model.parameters(), lr=0.001, momentum=0.9)\n      |                                           ^\ninput_line_11:3:53: error: use of undeclared identifier 'momentum'\n    3 | optimizer = optim.SGD(model.parameters(), lr=0.001, momentum=0.9)\n      |                                                     ^\nFailed to parse via ::process:Parsing failed.\n"
        },
        {
          "ename": "Error: ",
          "evalue": "Compilation error! input_line_11:1:2: error: invalid preprocessing directive\n    1 | #Câu 3: \n      |  ^\ninput_line_11:2:2: error: invalid preprocessing directive\n    2 | #Learning Rate = 0.001:\n      |  ^\ninput_line_11:3:1: error: use of undeclared identifier 'optimizer'\n    3 | optimizer = optim.SGD(model.parameters(), lr=0.001, momentum=0.9)\n      | ^\ninput_line_11:3:13: error: use of undeclared identifier 'optim'\n    3 | optimizer = optim.SGD(model.parameters(), lr=0.001, momentum=0.9)\n      |             ^\ninput_line_11:3:23: error: use of undeclared identifier 'model'\n    3 | optimizer = optim.SGD(model.parameters(), lr=0.001, momentum=0.9)\n      |                       ^\ninput_line_11:3:43: error: use of undeclared identifier 'lr'\n    3 | optimizer = optim.SGD(model.parameters(), lr=0.001, momentum=0.9)\n      |                                           ^\ninput_line_11:3:53: error: use of undeclared identifier 'momentum'\n    3 | optimizer = optim.SGD(model.parameters(), lr=0.001, momentum=0.9)\n      |                                                     ^\nFailed to parse via ::process:Parsing failed.\n",
          "traceback": [
            "Error: Compilation error! input_line_11:1:2: error: invalid preprocessing directive\n    1 | #Câu 3: \n      |  ^\ninput_line_11:2:2: error: invalid preprocessing directive\n    2 | #Learning Rate = 0.001:\n      |  ^\ninput_line_11:3:1: error: use of undeclared identifier 'optimizer'\n    3 | optimizer = optim.SGD(model.parameters(), lr=0.001, momentum=0.9)\n      | ^\ninput_line_11:3:13: error: use of undeclared identifier 'optim'\n    3 | optimizer = optim.SGD(model.parameters(), lr=0.001, momentum=0.9)\n      |             ^\ninput_line_11:3:23: error: use of undeclared identifier 'model'\n    3 | optimizer = optim.SGD(model.parameters(), lr=0.001, momentum=0.9)\n      |                       ^\ninput_line_11:3:43: error: use of undeclared identifier 'lr'\n    3 | optimizer = optim.SGD(model.parameters(), lr=0.001, momentum=0.9)\n      |                                           ^\ninput_line_11:3:53: error: use of undeclared identifier 'momentum'\n    3 | optimizer = optim.SGD(model.parameters(), lr=0.001, momentum=0.9)\n      |                                                     ^\nFailed to parse via ::process:Parsing failed.\n"
          ],
          "output_type": "error"
        }
      ],
      "execution_count": 10
    },
    {
      "id": "f66fbd2c-451a-4d54-ae78-7c204e93772d",
      "cell_type": "code",
      "source": "#Câu 3:\n#Learning Rate = 0.1:\noptimizer = optim.SGD(model.parameters(), lr=0.1, momentum=0.9)\n    ",
      "metadata": {
        "trusted": true
      },
      "outputs": [
        {
          "name": "stderr",
          "output_type": "stream",
          "text": "input_line_12:1:2: error: invalid preprocessing directive\n    1 | #Câu 3:\n      |  ^\ninput_line_12:2:2: error: invalid preprocessing directive\n    2 | #Learning Rate = 0.1:\n      |  ^\ninput_line_12:3:1: error: use of undeclared identifier 'optimizer'\n    3 | optimizer = optim.SGD(model.parameters(), lr=0.1, momentum=0.9)\n      | ^\ninput_line_12:3:13: error: use of undeclared identifier 'optim'\n    3 | optimizer = optim.SGD(model.parameters(), lr=0.1, momentum=0.9)\n      |             ^\ninput_line_12:3:23: error: use of undeclared identifier 'model'\n    3 | optimizer = optim.SGD(model.parameters(), lr=0.1, momentum=0.9)\n      |                       ^\ninput_line_12:3:43: error: use of undeclared identifier 'lr'\n    3 | optimizer = optim.SGD(model.parameters(), lr=0.1, momentum=0.9)\n      |                                           ^\ninput_line_12:3:51: error: use of undeclared identifier 'momentum'\n    3 | optimizer = optim.SGD(model.parameters(), lr=0.1, momentum=0.9)\n      |                                                   ^\nFailed to parse via ::process:Parsing failed.\n"
        },
        {
          "ename": "Error: ",
          "evalue": "Compilation error! input_line_12:1:2: error: invalid preprocessing directive\n    1 | #Câu 3:\n      |  ^\ninput_line_12:2:2: error: invalid preprocessing directive\n    2 | #Learning Rate = 0.1:\n      |  ^\ninput_line_12:3:1: error: use of undeclared identifier 'optimizer'\n    3 | optimizer = optim.SGD(model.parameters(), lr=0.1, momentum=0.9)\n      | ^\ninput_line_12:3:13: error: use of undeclared identifier 'optim'\n    3 | optimizer = optim.SGD(model.parameters(), lr=0.1, momentum=0.9)\n      |             ^\ninput_line_12:3:23: error: use of undeclared identifier 'model'\n    3 | optimizer = optim.SGD(model.parameters(), lr=0.1, momentum=0.9)\n      |                       ^\ninput_line_12:3:43: error: use of undeclared identifier 'lr'\n    3 | optimizer = optim.SGD(model.parameters(), lr=0.1, momentum=0.9)\n      |                                           ^\ninput_line_12:3:51: error: use of undeclared identifier 'momentum'\n    3 | optimizer = optim.SGD(model.parameters(), lr=0.1, momentum=0.9)\n      |                                                   ^\nFailed to parse via ::process:Parsing failed.\n",
          "traceback": [
            "Error: Compilation error! input_line_12:1:2: error: invalid preprocessing directive\n    1 | #Câu 3:\n      |  ^\ninput_line_12:2:2: error: invalid preprocessing directive\n    2 | #Learning Rate = 0.1:\n      |  ^\ninput_line_12:3:1: error: use of undeclared identifier 'optimizer'\n    3 | optimizer = optim.SGD(model.parameters(), lr=0.1, momentum=0.9)\n      | ^\ninput_line_12:3:13: error: use of undeclared identifier 'optim'\n    3 | optimizer = optim.SGD(model.parameters(), lr=0.1, momentum=0.9)\n      |             ^\ninput_line_12:3:23: error: use of undeclared identifier 'model'\n    3 | optimizer = optim.SGD(model.parameters(), lr=0.1, momentum=0.9)\n      |                       ^\ninput_line_12:3:43: error: use of undeclared identifier 'lr'\n    3 | optimizer = optim.SGD(model.parameters(), lr=0.1, momentum=0.9)\n      |                                           ^\ninput_line_12:3:51: error: use of undeclared identifier 'momentum'\n    3 | optimizer = optim.SGD(model.parameters(), lr=0.1, momentum=0.9)\n      |                                                   ^\nFailed to parse via ::process:Parsing failed.\n"
          ],
          "output_type": "error"
        }
      ],
      "execution_count": 11
    },
    {
      "id": "c112e44a-0f11-4558-a584-34e2821a340a",
      "cell_type": "code",
      "source": "#Câu 4:\ndef visualize_feature_map(self, img):\n    # Pass the image through the first convolutional layer\n    conv1_output = torch.relu(self.conv1(img))\n\n    # Pass the output of conv1 through the pooling layer and the second conv layer\n    conv2_output = torch.relu(self.conv2(self.pool(conv1_output)))\n\n    # Create a figure to display the feature maps\n    plt.figure(figsize=(20, 4))\n\n    # Display the first three feature maps from conv1\n    plt.subplot(1, 5, 1)\n    plt.imshow(conv1_output[0, 0].detach().numpy(), cmap='viridis')\n\n    plt.subplot(1, 5, 2)\n    plt.imshow(conv1_output[0, 1].detach().numpy(), cmap='viridis')\n\n    plt.subplot(1, 5, 3)\n    plt.imshow(conv1_output[0, 2].detach().numpy(), cmap='viridis')\n\n    # Display two feature maps from conv2\n    plt.subplot(1, 5, 4)\n    plt.imshow(conv2_output[0, 0].detach().numpy(), cmap='viridis')\n\n    plt.subplot(1, 5, 5)\n    plt.imshow(conv2_output[0, 1].detach().numpy(), cmap='viridis')\n\n    plt.show()\n#Các feature map từ tầng conv1 thường hiển thị các đặc trưng cơ bản và đơn giản như đường viền, cạnh, và các mảng màu. Chúng giống như một bộ lọc đơn giản áp dụng lên hình ảnh gốc.",
      "metadata": {
        "trusted": true
      },
      "outputs": [
        {
          "name": "stderr",
          "output_type": "stream",
          "text": "input_line_13:1:2: error: invalid preprocessing directive\n    1 | #Câu 4:\n      |  ^\ninput_line_13:2:1: error: unknown type name 'def'\n    2 | def visualize_feature_map(self, img):\n      | ^\ninput_line_13:2:27: error: unknown type name 'self'\n    2 | def visualize_feature_map(self, img):\n      |                           ^\ninput_line_13:2:33: error: unknown type name 'img'\n    2 | def visualize_feature_map(self, img):\n      |                                 ^\ninput_line_13:3:7: error: invalid preprocessing directive\n    3 |     # Pass the image through the first convolutional layer\n      |       ^\ninput_line_13:4:18: error: expected '(' or '{'\n    4 |     conv1_output = torch.relu(self.conv1(img))\n      |                  ^\ninput_line_13:6:7: error: invalid preprocessing directive\n    6 |     # Pass the output of conv1 through the pooling layer and the second conv layer\n      |       ^\ninput_line_13:9:7: error: invalid preprocessing directive\n    9 |     # Create a figure to display the feature maps\n      |       ^\ninput_line_13:12:7: error: invalid preprocessing directive\n   12 |     # Display the first three feature maps from conv1\n      |       ^\ninput_line_13:22:7: error: invalid preprocessing directive\n   22 |     # Display two feature maps from conv2\n      |       ^\ninput_line_13:30:2: error: invalid preprocessing directive\n   30 | #Các feature map từ tầng conv1 thường hiển thị các đặc trưng cơ bản và đơn giản như đường viền, cạnh, và các mảng màu. Chúng giống như một bộ lọc đơn giản áp dụng lên hình ảnh gốc.\n      |  ^\ninput_line_13:2:37: error: only constructors take base initializers\n    2 | def visualize_feature_map(self, img):\n      |                                     ^\nFailed to parse via ::process:Parsing failed.\n"
        },
        {
          "ename": "Error: ",
          "evalue": "Compilation error! input_line_13:1:2: error: invalid preprocessing directive\n    1 | #Câu 4:\n      |  ^\ninput_line_13:2:1: error: unknown type name 'def'\n    2 | def visualize_feature_map(self, img):\n      | ^\ninput_line_13:2:27: error: unknown type name 'self'\n    2 | def visualize_feature_map(self, img):\n      |                           ^\ninput_line_13:2:33: error: unknown type name 'img'\n    2 | def visualize_feature_map(self, img):\n      |                                 ^\ninput_line_13:3:7: error: invalid preprocessing directive\n    3 |     # Pass the image through the first convolutional layer\n      |       ^\ninput_line_13:4:18: error: expected '(' or '{'\n    4 |     conv1_output = torch.relu(self.conv1(img))\n      |                  ^\ninput_line_13:6:7: error: invalid preprocessing directive\n    6 |     # Pass the output of conv1 through the pooling layer and the second conv layer\n      |       ^\ninput_line_13:9:7: error: invalid preprocessing directive\n    9 |     # Create a figure to display the feature maps\n      |       ^\ninput_line_13:12:7: error: invalid preprocessing directive\n   12 |     # Display the first three feature maps from conv1\n      |       ^\ninput_line_13:22:7: error: invalid preprocessing directive\n   22 |     # Display two feature maps from conv2\n      |       ^\ninput_line_13:30:2: error: invalid preprocessing directive\n   30 | #Các feature map từ tầng conv1 thường hiển thị các đặc trưng cơ bản và đơn giản như đường viền, cạnh, và các mảng màu. Chúng giống như một bộ lọc đơn giản áp dụng lên hình ảnh gốc.\n      |  ^\ninput_line_13:2:37: error: only constructors take base initializers\n    2 | def visualize_feature_map(self, img):\n      |                                     ^\nFailed to parse via ::process:Parsing failed.\n",
          "traceback": [
            "Error: Compilation error! input_line_13:1:2: error: invalid preprocessing directive\n    1 | #Câu 4:\n      |  ^\ninput_line_13:2:1: error: unknown type name 'def'\n    2 | def visualize_feature_map(self, img):\n      | ^\ninput_line_13:2:27: error: unknown type name 'self'\n    2 | def visualize_feature_map(self, img):\n      |                           ^\ninput_line_13:2:33: error: unknown type name 'img'\n    2 | def visualize_feature_map(self, img):\n      |                                 ^\ninput_line_13:3:7: error: invalid preprocessing directive\n    3 |     # Pass the image through the first convolutional layer\n      |       ^\ninput_line_13:4:18: error: expected '(' or '{'\n    4 |     conv1_output = torch.relu(self.conv1(img))\n      |                  ^\ninput_line_13:6:7: error: invalid preprocessing directive\n    6 |     # Pass the output of conv1 through the pooling layer and the second conv layer\n      |       ^\ninput_line_13:9:7: error: invalid preprocessing directive\n    9 |     # Create a figure to display the feature maps\n      |       ^\ninput_line_13:12:7: error: invalid preprocessing directive\n   12 |     # Display the first three feature maps from conv1\n      |       ^\ninput_line_13:22:7: error: invalid preprocessing directive\n   22 |     # Display two feature maps from conv2\n      |       ^\ninput_line_13:30:2: error: invalid preprocessing directive\n   30 | #Các feature map từ tầng conv1 thường hiển thị các đặc trưng cơ bản và đơn giản như đường viền, cạnh, và các mảng màu. Chúng giống như một bộ lọc đơn giản áp dụng lên hình ảnh gốc.\n      |  ^\ninput_line_13:2:37: error: only constructors take base initializers\n    2 | def visualize_feature_map(self, img):\n      |                                     ^\nFailed to parse via ::process:Parsing failed.\n"
          ],
          "output_type": "error"
        }
      ],
      "execution_count": 12
    },
    {
      "id": "2ab0f0cd-db93-4a49-adc9-5e9275b45032",
      "cell_type": "code",
      "source": "",
      "metadata": {
        "trusted": true
      },
      "outputs": [],
      "execution_count": null
    }
  ]
}